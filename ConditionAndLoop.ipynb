{
 "cells": [
  {
   "cell_type": "code",
   "execution_count": 53,
   "id": "dc202894",
   "metadata": {},
   "outputs": [],
   "source": [
    "#Hi-Code-Data-Science-and-Artificial-Intelligence#"
   ]
  },
  {
   "cell_type": "code",
   "execution_count": 54,
   "id": "61aecb09",
   "metadata": {},
   "outputs": [],
   "source": [
    "#Question_1#"
   ]
  },
  {
   "cell_type": "code",
   "execution_count": 55,
   "id": "51ff8ec0",
   "metadata": {},
   "outputs": [
    {
     "name": "stdout",
     "output_type": "stream",
     "text": [
      "Enter your salary 670000\n"
     ]
    }
   ],
   "source": [
    "salary = float(input(\"Enter your salary \"))"
   ]
  },
  {
   "cell_type": "code",
   "execution_count": 56,
   "id": "7b736afe",
   "metadata": {},
   "outputs": [],
   "source": [
    "if salary  <= 10000:\n",
    "    salary_cuts = 0.05\n",
    "elif salary  <= 25000:\n",
    "    salary_cuts = 0.10\n",
    "elif salary  <= 45000:\n",
    "    salary_cuts = 0.25\n",
    "else:\n",
    "    salary_cuts = 0.30"
   ]
  },
  {
   "cell_type": "code",
   "execution_count": 57,
   "id": "0ffc910e",
   "metadata": {},
   "outputs": [],
   "source": [
    "salary_deduction_amount = salary  * salary_cuts\n",
    "new_salary = salary - salary_deduction_amount"
   ]
  },
  {
   "cell_type": "code",
   "execution_count": 58,
   "id": "5a90cb91",
   "metadata": {},
   "outputs": [
    {
     "name": "stdout",
     "output_type": "stream",
     "text": [
      "Deduction from salary: 201000.0\n",
      "New Salary:  469000.0\n"
     ]
    }
   ],
   "source": [
    "print(\"Deduction from salary:\" , salary_deduction_amount )\n",
    "print(\"New Salary: \" , new_salary)"
   ]
  },
  {
   "cell_type": "code",
   "execution_count": 59,
   "id": "f0e85c61",
   "metadata": {},
   "outputs": [],
   "source": [
    "#Question_2#"
   ]
  },
  {
   "cell_type": "code",
   "execution_count": 60,
   "id": "c54a876f",
   "metadata": {},
   "outputs": [
    {
     "name": "stdout",
     "output_type": "stream",
     "text": [
      "Create your username: user1\n",
      "Create your password: Kjhjkghjbj6578\n"
     ]
    }
   ],
   "source": [
    "user_name = input(\"Create your username: \")\n",
    "password = input(\"Create your password: \")"
   ]
  },
  {
   "cell_type": "code",
   "execution_count": 61,
   "id": "af1ccfd2",
   "metadata": {},
   "outputs": [
    {
     "name": "stdout",
     "output_type": "stream",
     "text": [
      "Your account has been created!\n"
     ]
    }
   ],
   "source": [
    "if len(password) >= 6:\n",
    "    print(\"Your account has been created!\")\n",
    "else:\n",
    "    print(\"Your password must be at least six digits. Please create a valid password.\")"
   ]
  },
  {
   "cell_type": "code",
   "execution_count": 62,
   "id": "5994dcdf",
   "metadata": {},
   "outputs": [],
   "source": [
    "#Question_3#"
   ]
  },
  {
   "cell_type": "code",
   "execution_count": 63,
   "id": "470adcaa",
   "metadata": {},
   "outputs": [
    {
     "name": "stdout",
     "output_type": "stream",
     "text": [
      "Create your username: user2\n",
      "Create your password(Must be between 5 and 10 digits): kjklljgfhj\n",
      "Your account has been created!\n"
     ]
    }
   ],
   "source": [
    "while True:\n",
    " \n",
    "    user_name = input(\"Create your username: \")\n",
    "    password = input(\"Create your password(Must be between 5 and 10 digits): \")\n",
    "    if 5 <= len(password) <= 10:\n",
    "        print(\"Your account has been created!\")\n",
    "        break\n",
    "    else:\n",
    "        print(\"Please enter no less than 5 digits and no more than 10 digits!\")\n"
   ]
  },
  {
   "cell_type": "code",
   "execution_count": 64,
   "id": "67a86e56",
   "metadata": {},
   "outputs": [],
   "source": [
    "#Question_4#"
   ]
  },
  {
   "cell_type": "code",
   "execution_count": 65,
   "id": "f91eedd4",
   "metadata": {},
   "outputs": [
    {
     "name": "stdout",
     "output_type": "stream",
     "text": [
      "Enter your name: user3\n",
      "Enter your password: bvcxfcgfhbjnmkölk\n",
      "Wrong password entered! Your remaining entry rights are: 2\n",
      "Enter your password: lkmjnhbgvcfdfvgbhnjm\n",
      "Wrong password entered! Your remaining entry rights are: 1\n",
      "Enter your password: SecurePassword543210\n",
      "Login has been made.\n"
     ]
    }
   ],
   "source": [
    "defined_password = \"SecurePassword543210\"\n",
    "name = input(\"Enter your name: \")\n",
    "password_login_right = 3\n",
    "\n",
    "while password_login_right > 0:\n",
    "    password = input(\"Enter your password: \")\n",
    "\n",
    "    if password == defined_password:\n",
    "        print(\"Login has been made.\")\n",
    "        break\n",
    "    else:\n",
    "        password_login_right -= 1\n",
    "        if password_login_right > 0:\n",
    "            print(\"Wrong password entered! Your remaining entry rights are:\" , password_login_right)\n",
    "        else:\n",
    "            print(\"Incorrect password entry three times. The program is terminating.\")"
   ]
  },
  {
   "cell_type": "code",
   "execution_count": null,
   "id": "0f1592e8",
   "metadata": {},
   "outputs": [],
   "source": []
  },
  {
   "cell_type": "code",
   "execution_count": null,
   "id": "e90fc220",
   "metadata": {},
   "outputs": [],
   "source": []
  }
 ],
 "metadata": {
  "kernelspec": {
   "display_name": "Python 3 (ipykernel)",
   "language": "python",
   "name": "python3"
  },
  "language_info": {
   "codemirror_mode": {
    "name": "ipython",
    "version": 3
   },
   "file_extension": ".py",
   "mimetype": "text/x-python",
   "name": "python",
   "nbconvert_exporter": "python",
   "pygments_lexer": "ipython3",
   "version": "3.11.4"
  }
 },
 "nbformat": 4,
 "nbformat_minor": 5
}
