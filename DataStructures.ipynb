{
 "cells": [
  {
   "cell_type": "code",
   "execution_count": 89,
   "id": "67820fb7",
   "metadata": {},
   "outputs": [],
   "source": [
    "#Hi-Code-Data-Science-and-Artificial-Intelligence#"
   ]
  },
  {
   "cell_type": "code",
   "execution_count": 90,
   "id": "5ab2bb28",
   "metadata": {},
   "outputs": [],
   "source": [
    "#Question_1#"
   ]
  },
  {
   "cell_type": "code",
   "execution_count": 91,
   "id": "06fc0c9d",
   "metadata": {},
   "outputs": [
    {
     "data": {
      "text/plain": [
       "int"
      ]
     },
     "execution_count": 91,
     "metadata": {},
     "output_type": "execute_result"
    }
   ],
   "source": [
    "x = 3\n",
    "type(x)"
   ]
  },
  {
   "cell_type": "code",
   "execution_count": 92,
   "id": "6e844add",
   "metadata": {},
   "outputs": [
    {
     "data": {
      "text/plain": [
       "3.0"
      ]
     },
     "execution_count": 92,
     "metadata": {},
     "output_type": "execute_result"
    }
   ],
   "source": [
    "float(x)"
   ]
  },
  {
   "cell_type": "code",
   "execution_count": 93,
   "id": "3d91840c",
   "metadata": {},
   "outputs": [
    {
     "data": {
      "text/plain": [
       "float"
      ]
     },
     "execution_count": 93,
     "metadata": {},
     "output_type": "execute_result"
    }
   ],
   "source": [
    "type(float(x))"
   ]
  },
  {
   "cell_type": "code",
   "execution_count": 94,
   "id": "9d237b79",
   "metadata": {},
   "outputs": [
    {
     "data": {
      "text/plain": [
       "float"
      ]
     },
     "execution_count": 94,
     "metadata": {},
     "output_type": "execute_result"
    }
   ],
   "source": [
    "y = 4.5\n",
    "type(y)"
   ]
  },
  {
   "cell_type": "code",
   "execution_count": 95,
   "id": "b197bae7",
   "metadata": {},
   "outputs": [
    {
     "data": {
      "text/plain": [
       "4"
      ]
     },
     "execution_count": 95,
     "metadata": {},
     "output_type": "execute_result"
    }
   ],
   "source": [
    "y_new = int(y)\n",
    "y_new"
   ]
  },
  {
   "cell_type": "code",
   "execution_count": 96,
   "id": "ed9142c3",
   "metadata": {},
   "outputs": [
    {
     "data": {
      "text/plain": [
       "int"
      ]
     },
     "execution_count": 96,
     "metadata": {},
     "output_type": "execute_result"
    }
   ],
   "source": [
    "type(y_new)"
   ]
  },
  {
   "cell_type": "code",
   "execution_count": 97,
   "id": "56531b75",
   "metadata": {},
   "outputs": [
    {
     "data": {
      "text/plain": [
       "str"
      ]
     },
     "execution_count": 97,
     "metadata": {},
     "output_type": "execute_result"
    }
   ],
   "source": [
    "z = \"8\"\n",
    "type(z)"
   ]
  },
  {
   "cell_type": "code",
   "execution_count": 98,
   "id": "b9b6574b",
   "metadata": {},
   "outputs": [
    {
     "data": {
      "text/plain": [
       "8"
      ]
     },
     "execution_count": 98,
     "metadata": {},
     "output_type": "execute_result"
    }
   ],
   "source": [
    "int(z)"
   ]
  },
  {
   "cell_type": "code",
   "execution_count": 99,
   "id": "1ebe6590",
   "metadata": {},
   "outputs": [
    {
     "data": {
      "text/plain": [
       "int"
      ]
     },
     "execution_count": 99,
     "metadata": {},
     "output_type": "execute_result"
    }
   ],
   "source": [
    "type(int(z))"
   ]
  },
  {
   "cell_type": "code",
   "execution_count": 100,
   "id": "e82452c1",
   "metadata": {},
   "outputs": [
    {
     "data": {
      "text/plain": [
       "str"
      ]
     },
     "execution_count": 100,
     "metadata": {},
     "output_type": "execute_result"
    }
   ],
   "source": [
    "a = \"12\"\n",
    "type(a)"
   ]
  },
  {
   "cell_type": "code",
   "execution_count": 101,
   "id": "6e6f4d71",
   "metadata": {},
   "outputs": [
    {
     "data": {
      "text/plain": [
       "12.0"
      ]
     },
     "execution_count": 101,
     "metadata": {},
     "output_type": "execute_result"
    }
   ],
   "source": [
    "a_new = float(a)\n",
    "a_new"
   ]
  },
  {
   "cell_type": "code",
   "execution_count": 102,
   "id": "43053a8e",
   "metadata": {},
   "outputs": [
    {
     "data": {
      "text/plain": [
       "float"
      ]
     },
     "execution_count": 102,
     "metadata": {},
     "output_type": "execute_result"
    }
   ],
   "source": [
    "type(a_new)"
   ]
  },
  {
   "cell_type": "code",
   "execution_count": 103,
   "id": "8678696d",
   "metadata": {},
   "outputs": [
    {
     "data": {
      "text/plain": [
       "str"
      ]
     },
     "execution_count": 103,
     "metadata": {},
     "output_type": "execute_result"
    }
   ],
   "source": [
    "b = \"46.8\"\n",
    "type(b)"
   ]
  },
  {
   "cell_type": "code",
   "execution_count": 104,
   "id": "5ce6fec9",
   "metadata": {},
   "outputs": [
    {
     "data": {
      "text/plain": [
       "46"
      ]
     },
     "execution_count": 104,
     "metadata": {},
     "output_type": "execute_result"
    }
   ],
   "source": [
    "b_new = int(float(b))\n",
    "b_new"
   ]
  },
  {
   "cell_type": "code",
   "execution_count": 105,
   "id": "feb73911",
   "metadata": {},
   "outputs": [
    {
     "data": {
      "text/plain": [
       "int"
      ]
     },
     "execution_count": 105,
     "metadata": {},
     "output_type": "execute_result"
    }
   ],
   "source": [
    "type(b_new)"
   ]
  },
  {
   "cell_type": "code",
   "execution_count": 106,
   "id": "b46e9812",
   "metadata": {},
   "outputs": [],
   "source": [
    "#Question_2#"
   ]
  },
  {
   "cell_type": "code",
   "execution_count": 107,
   "id": "f91bcb3a",
   "metadata": {},
   "outputs": [],
   "source": [
    "İdil = 25\n",
    "Esat = 47\n",
    "Simay = 11"
   ]
  },
  {
   "cell_type": "code",
   "execution_count": 108,
   "id": "15ec6ec0",
   "metadata": {},
   "outputs": [
    {
     "data": {
      "text/plain": [
       "False"
      ]
     },
     "execution_count": 108,
     "metadata": {},
     "output_type": "execute_result"
    }
   ],
   "source": [
    "İdil == Simay\n"
   ]
  },
  {
   "cell_type": "code",
   "execution_count": 109,
   "id": "736ea36f",
   "metadata": {},
   "outputs": [
    {
     "data": {
      "text/plain": [
       "False"
      ]
     },
     "execution_count": 109,
     "metadata": {},
     "output_type": "execute_result"
    }
   ],
   "source": [
    "Esat == İdil"
   ]
  },
  {
   "cell_type": "code",
   "execution_count": 110,
   "id": "c267e6b2",
   "metadata": {},
   "outputs": [
    {
     "data": {
      "text/plain": [
       "True"
      ]
     },
     "execution_count": 110,
     "metadata": {},
     "output_type": "execute_result"
    }
   ],
   "source": [
    "İdil != Esat"
   ]
  },
  {
   "cell_type": "code",
   "execution_count": 111,
   "id": "578c1e27",
   "metadata": {},
   "outputs": [
    {
     "data": {
      "text/plain": [
       "False"
      ]
     },
     "execution_count": 111,
     "metadata": {},
     "output_type": "execute_result"
    }
   ],
   "source": [
    "Simay > Esat"
   ]
  },
  {
   "cell_type": "code",
   "execution_count": 112,
   "id": "4162c472",
   "metadata": {},
   "outputs": [
    {
     "data": {
      "text/plain": [
       "True"
      ]
     },
     "execution_count": 112,
     "metadata": {},
     "output_type": "execute_result"
    }
   ],
   "source": [
    "Esat > Simay "
   ]
  },
  {
   "cell_type": "code",
   "execution_count": 113,
   "id": "804adf92",
   "metadata": {},
   "outputs": [
    {
     "data": {
      "text/plain": [
       "False"
      ]
     },
     "execution_count": 113,
     "metadata": {},
     "output_type": "execute_result"
    }
   ],
   "source": [
    "İdil < Simay"
   ]
  },
  {
   "cell_type": "code",
   "execution_count": 114,
   "id": "c90bb015",
   "metadata": {},
   "outputs": [
    {
     "data": {
      "text/plain": [
       "True"
      ]
     },
     "execution_count": 114,
     "metadata": {},
     "output_type": "execute_result"
    }
   ],
   "source": [
    "İdil < Esat"
   ]
  },
  {
   "cell_type": "code",
   "execution_count": 115,
   "id": "33f27d2d",
   "metadata": {},
   "outputs": [
    {
     "data": {
      "text/plain": [
       "True"
      ]
     },
     "execution_count": 115,
     "metadata": {},
     "output_type": "execute_result"
    }
   ],
   "source": [
    "İdil and Esat > Simay"
   ]
  },
  {
   "cell_type": "code",
   "execution_count": 116,
   "id": "6a80e539",
   "metadata": {},
   "outputs": [
    {
     "data": {
      "text/plain": [
       "True"
      ]
     },
     "execution_count": 116,
     "metadata": {},
     "output_type": "execute_result"
    }
   ],
   "source": [
    "İdil >= Simay"
   ]
  },
  {
   "cell_type": "code",
   "execution_count": 117,
   "id": "6a1b6420",
   "metadata": {},
   "outputs": [
    {
     "data": {
      "text/plain": [
       "True"
      ]
     },
     "execution_count": 117,
     "metadata": {},
     "output_type": "execute_result"
    }
   ],
   "source": [
    "Simay <= Esat"
   ]
  },
  {
   "cell_type": "code",
   "execution_count": 118,
   "id": "df87008a",
   "metadata": {},
   "outputs": [
    {
     "data": {
      "text/plain": [
       "True"
      ]
     },
     "execution_count": 118,
     "metadata": {},
     "output_type": "execute_result"
    }
   ],
   "source": [
    "Simay <= Esat and İdil > Simay"
   ]
  },
  {
   "cell_type": "code",
   "execution_count": 119,
   "id": "c9dfddf7",
   "metadata": {},
   "outputs": [
    {
     "data": {
      "text/plain": [
       "True"
      ]
     },
     "execution_count": 119,
     "metadata": {},
     "output_type": "execute_result"
    }
   ],
   "source": [
    "Esat > Simay or Simay >= İdil"
   ]
  },
  {
   "cell_type": "code",
   "execution_count": 120,
   "id": "7113436d",
   "metadata": {},
   "outputs": [
    {
     "data": {
      "text/plain": [
       "False"
      ]
     },
     "execution_count": 120,
     "metadata": {},
     "output_type": "execute_result"
    }
   ],
   "source": [
    "not(İdil > Simay and Esat > Simay)"
   ]
  },
  {
   "cell_type": "code",
   "execution_count": 146,
   "id": "79c82fff",
   "metadata": {},
   "outputs": [],
   "source": [
    "#Question_3#"
   ]
  },
  {
   "cell_type": "code",
   "execution_count": 159,
   "id": "d7a2bf66",
   "metadata": {},
   "outputs": [
    {
     "name": "stdout",
     "output_type": "stream",
     "text": [
      "Birinci sayıyı girin: 60\n",
      "İkinci sayıyı girin: 5\n"
     ]
    }
   ],
   "source": [
    "sayi1 = float(input(\"Birinci sayıyı girin: \"))\n",
    "sayi2 = float(input(\"İkinci sayıyı girin: \"))"
   ]
  },
  {
   "cell_type": "code",
   "execution_count": 161,
   "id": "596b3970",
   "metadata": {},
   "outputs": [
    {
     "name": "stdout",
     "output_type": "stream",
     "text": [
      "Toplam: 65.0\n"
     ]
    }
   ],
   "source": [
    "toplam = sayi1 + sayi2\n",
    "print(\"Toplam:\", toplam)"
   ]
  },
  {
   "cell_type": "code",
   "execution_count": 163,
   "id": "47dd3240",
   "metadata": {},
   "outputs": [
    {
     "name": "stdout",
     "output_type": "stream",
     "text": [
      "Fark: 55.0\n"
     ]
    }
   ],
   "source": [
    "fark = sayi1 - sayi2\n",
    "print(\"Fark:\", fark)"
   ]
  },
  {
   "cell_type": "code",
   "execution_count": 166,
   "id": "f0a57758",
   "metadata": {},
   "outputs": [
    {
     "name": "stdout",
     "output_type": "stream",
     "text": [
      "Çarpım: 300.0\n"
     ]
    }
   ],
   "source": [
    "çarpım = sayi1 * sayi2\n",
    "print(\"Çarpım:\", çarpım)"
   ]
  },
  {
   "cell_type": "code",
   "execution_count": 168,
   "id": "c2060cc5",
   "metadata": {},
   "outputs": [
    {
     "name": "stdout",
     "output_type": "stream",
     "text": [
      "Bölme: 12.0\n"
     ]
    }
   ],
   "source": [
    "bölme = sayi1 / sayi2\n",
    "print(\"Bölme:\", bölme)"
   ]
  },
  {
   "cell_type": "code",
   "execution_count": 169,
   "id": "1d141554",
   "metadata": {},
   "outputs": [
    {
     "name": "stdout",
     "output_type": "stream",
     "text": [
      "Mod: 0.0\n"
     ]
    }
   ],
   "source": [
    "mod = sayi1 % sayi2\n",
    "print(\"Mod:\", mod)"
   ]
  },
  {
   "cell_type": "code",
   "execution_count": 170,
   "id": "71995aed",
   "metadata": {},
   "outputs": [],
   "source": [
    "#Question_4#"
   ]
  },
  {
   "cell_type": "code",
   "execution_count": 172,
   "id": "8e819071",
   "metadata": {},
   "outputs": [
    {
     "name": "stdout",
     "output_type": "stream",
     "text": [
      "İsminizi giriniz: İdil\n",
      "Yaşınızı giriniz: 25\n",
      "Yaşadığınız şehri giriniz: Ankara\n",
      "Mesleğinizi giriniz: Bilgisayar müh\n"
     ]
    }
   ],
   "source": [
    "İsim = str(input(\"İsminizi giriniz: \"))\n",
    "Yaş = str(input(\"Yaşınızı giriniz: \"))\n",
    "Şehir = str(input(\"Yaşadığınız şehri giriniz: \"))\n",
    "Meslek = str(input(\"Mesleğinizi giriniz: \"))"
   ]
  },
  {
   "cell_type": "code",
   "execution_count": 173,
   "id": "184a4235",
   "metadata": {},
   "outputs": [
    {
     "name": "stdout",
     "output_type": "stream",
     "text": [
      "İdil\n",
      "25\n",
      "Ankara\n",
      "Bilgisayar müh\n"
     ]
    }
   ],
   "source": [
    "print(İsim)\n",
    "print(Yaş)\n",
    "print(Şehir)\n",
    "print(Meslek)"
   ]
  },
  {
   "cell_type": "code",
   "execution_count": 174,
   "id": "5afcf240",
   "metadata": {},
   "outputs": [],
   "source": [
    "#Question_5#"
   ]
  },
  {
   "cell_type": "code",
   "execution_count": 192,
   "id": "40d4e8ae",
   "metadata": {},
   "outputs": [],
   "source": [
    "Değişken = \"\\\"Hi-Kod Veri Bilimi Atölyesi\\\"\""
   ]
  },
  {
   "cell_type": "code",
   "execution_count": 193,
   "id": "19f802e8",
   "metadata": {},
   "outputs": [],
   "source": [
    "#1"
   ]
  },
  {
   "cell_type": "code",
   "execution_count": 194,
   "id": "9df2fd82",
   "metadata": {},
   "outputs": [],
   "source": [
    "Kelimeler = Değişken.split()"
   ]
  },
  {
   "cell_type": "code",
   "execution_count": 195,
   "id": "f2eb215b",
   "metadata": {},
   "outputs": [
    {
     "name": "stdout",
     "output_type": "stream",
     "text": [
      "['\"Hi-Kod', 'Veri', 'Bilimi', 'Atölyesi\"']\n"
     ]
    }
   ],
   "source": [
    "print(Kelimeler)"
   ]
  },
  {
   "cell_type": "code",
   "execution_count": 196,
   "id": "9590a56f",
   "metadata": {},
   "outputs": [],
   "source": [
    "#2"
   ]
  },
  {
   "cell_type": "code",
   "execution_count": 198,
   "id": "ced442e0",
   "metadata": {},
   "outputs": [
    {
     "name": "stdout",
     "output_type": "stream",
     "text": [
      "['\"HI-KOD', 'VERI', 'BILIMI', 'ATÖLYESI\"']\n"
     ]
    }
   ],
   "source": [
    "buyuk_harfler = [kelime.upper() for kelime in Kelimeler]\n",
    "print(buyuk_harfler)"
   ]
  },
  {
   "cell_type": "code",
   "execution_count": 199,
   "id": "b981a4c9",
   "metadata": {},
   "outputs": [
    {
     "name": "stdout",
     "output_type": "stream",
     "text": [
      "\"HI-KOD VERI BILIMI ATÖLYESI\"\n"
     ]
    }
   ],
   "source": [
    "buyuk_harfli_ifade = \" \".join(buyuk_harfler)\n",
    "print(buyuk_harfli_ifade)"
   ]
  },
  {
   "cell_type": "code",
   "execution_count": null,
   "id": "25f24a5f",
   "metadata": {},
   "outputs": [],
   "source": [
    "#3"
   ]
  },
  {
   "cell_type": "code",
   "execution_count": 201,
   "id": "01d03161",
   "metadata": {},
   "outputs": [
    {
     "name": "stdout",
     "output_type": "stream",
     "text": [
      "['\"hi-kod', 'veri', 'bilimi', 'atölyesi\"']\n"
     ]
    }
   ],
   "source": [
    "kucuk_harfler = [kelime.lower() for kelime in Kelimeler]\n",
    "print(kucuk_harfler)"
   ]
  },
  {
   "cell_type": "code",
   "execution_count": 202,
   "id": "ba50be54",
   "metadata": {},
   "outputs": [
    {
     "name": "stdout",
     "output_type": "stream",
     "text": [
      "\"hi-kod veri bilimi atölyesi\"\n"
     ]
    }
   ],
   "source": [
    "kucuk_harfli_ifade = \" \".join(kucuk_harfler)\n",
    "print(kucuk_harfli_ifade)"
   ]
  },
  {
   "cell_type": "code",
   "execution_count": 203,
   "id": "de034e4a",
   "metadata": {},
   "outputs": [
    {
     "name": "stdout",
     "output_type": "stream",
     "text": [
      "Çift sayılar: 02468\n",
      "Tek sayılar: 13579\n"
     ]
    }
   ],
   "source": [
    "sayilar = \"0123456789\"\n",
    "cift_sayilar = sayilar[::2]  # Çift sayılar\n",
    "tek_sayilar = sayilar[1::2]  # Tek sayılar\n",
    "print(\"Çift sayılar:\", cift_sayilar)\n",
    "print(\"Tek sayılar:\", tek_sayilar)"
   ]
  },
  {
   "cell_type": "code",
   "execution_count": null,
   "id": "3f5c9746",
   "metadata": {},
   "outputs": [],
   "source": []
  }
 ],
 "metadata": {
  "kernelspec": {
   "display_name": "Python 3 (ipykernel)",
   "language": "python",
   "name": "python3"
  },
  "language_info": {
   "codemirror_mode": {
    "name": "ipython",
    "version": 3
   },
   "file_extension": ".py",
   "mimetype": "text/x-python",
   "name": "python",
   "nbconvert_exporter": "python",
   "pygments_lexer": "ipython3",
   "version": "3.11.4"
  }
 },
 "nbformat": 4,
 "nbformat_minor": 5
}
